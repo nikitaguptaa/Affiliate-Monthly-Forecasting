{
  "nbformat": 4,
  "nbformat_minor": 0,
  "metadata": {
    "colab": {
      "provenance": [],
      "toc_visible": true,
      "authorship_tag": "ABX9TyNOqi9zOyZ4qQLcPHRamvEE",
      "include_colab_link": true
    },
    "kernelspec": {
      "name": "python3",
      "display_name": "Python 3"
    },
    "language_info": {
      "name": "python"
    }
  },
  "cells": [
    {
      "cell_type": "markdown",
      "metadata": {
        "id": "view-in-github",
        "colab_type": "text"
      },
      "source": [
        "<a href=\"https://colab.research.google.com/github/nikitaguptaa/Affiliate-Monthly-Forecasting/blob/main/FB%20Prophet_Data%20Science%20Model/Affiliate_Forecasting_using_FB_Prophet_(Data_Science_Model).ipynb\" target=\"_parent\"><img src=\"https://colab.research.google.com/assets/colab-badge.svg\" alt=\"Open In Colab\"/></a>"
      ]
    },
    {
      "cell_type": "code",
      "execution_count": null,
      "metadata": {
        "id": "tCXAH110yjzV"
      },
      "outputs": [],
      "source": [
        "!pip install prophet"
      ]
    },
    {
      "cell_type": "code",
      "source": [
        "import pandas as pd\n",
        "from prophet import Prophet\n",
        "import matplotlib.pyplot as plt\n",
        "\n",
        "# Step 1: Load your dataset\n",
        "df = pd.read_csv(\"Mock_Affiliate_Forecasting_Dataset.csv\")\n",
        "\n",
        "# Step 2: Prepare the data for Prophet\n",
        "# Prophet needs 'ds' (date) and 'y' (value to forecast)\n",
        "df_prophet = df[['Month', 'Partner A Revenue']].copy()\n",
        "df_prophet['ds'] = pd.to_datetime(df_prophet['Month'], format='%b-%Y')\n",
        "df_prophet['y'] = df_prophet['Partner A Revenue']\n",
        "df_prophet = df_prophet[['ds', 'y']]\n",
        "\n",
        "# Step 3: Initialize and fit the model\n",
        "model = Prophet()\n",
        "model.fit(df_prophet)\n",
        "\n",
        "# Step 4: Create future dates\n",
        "future = model.make_future_dataframe(periods=1, freq='M')  # 1 month ahead (July 2025)\n",
        "forecast = model.predict(future)\n",
        "\n",
        "# Step 5: Plot the forecast\n",
        "fig1 = model.plot(forecast)\n",
        "plt.title(\"Revenue Forecast (Partner A) - Prophet Model\")\n",
        "plt.show()\n",
        "\n",
        "# Step 6: Get the July 2025 forecast\n",
        "forecast_july = forecast[forecast['ds'].dt.strftime('%b-%Y') == 'Jul-2025']\n",
        "print(forecast_july[['ds', 'yhat', 'yhat_lower', 'yhat_upper']])"
      ],
      "metadata": {
        "id": "EQNlW-6GzA4R"
      },
      "execution_count": null,
      "outputs": []
    }
  ]
}